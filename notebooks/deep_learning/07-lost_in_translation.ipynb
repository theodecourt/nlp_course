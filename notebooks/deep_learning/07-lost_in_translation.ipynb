{
 "cells": [
  {
   "cell_type": "markdown",
   "id": "ba5227c5",
   "metadata": {},
   "source": [
    "# ACTIVITY: LOST IN TRANSLATION\n",
    "\n",
    "**ACTIVITY DESCRIPTION: At the end of this activity, the learner will be able to compare different methodologies for classification of non-English texts**\n",
    "\n",
    "**WHAT YOU SHOULD FOCUS ON: Use and compare different methodologies for a similar task**\n",
    "\n",
    "One (very big) problem of natural language processing is that most data *corpi* are in English, but most people in the world are not English speakers. There are languages that have few speakers, or that have few available documents for training. This is especially true in the context of large-scale models, which are known for being *data hungry*, that is, they require *a lot* of data to be adequately trained.\n",
    "\n",
    "There are essentially two methods to deal with non-English texts:\n",
    "\n",
    "1. Translate the text to English and then act on the translation\n",
    "1. Train language models in different languages\n",
    "\n",
    "Nowadays, translation is relatively easy to perform using the `argostranslate` package in Python:"
   ]
  },
  {
   "cell_type": "code",
   "execution_count": null,
   "id": "f4ed72a4",
   "metadata": {},
   "outputs": [],
   "source": [
    "import os\n",
    "\n",
    "os.environ[\"ARGOS_DEVICE_TYPE\"] = \"cuda\" # or \"cpu\"\n",
    "\n",
    "import argostranslate.package\n",
    "import argostranslate.translate\n",
    "\n",
    "# First, we need to configure the translator:\n",
    "def _configure_argos(from_code=\"pt\", to_code=\"en\"):\n",
    "    argostranslate.package.update_package_index()\n",
    "    available_packages = argostranslate.package.get_available_packages()\n",
    "    available_package = list(\n",
    "        filter(lambda x: x.from_code == from_code and x.to_code == to_code,\n",
    "               available_packages))[0]\n",
    "    download_path = available_package.download()\n",
    "    argostranslate.package.install_from_path(download_path)\n",
    "    installed_languages = argostranslate.translate.get_installed_languages()\n",
    "    from_lang = list(filter(lambda x: x.code == from_code,\n",
    "                            installed_languages))[0]\n",
    "    to_lang = list(filter(lambda x: x.code == to_code, installed_languages))[0]\n",
    "    translation = from_lang.get_translation(to_lang)\n",
    "    return translation\n",
    "\n",
    "translator = _configure_argos('pt', 'en')"
   ]
  },
  {
   "cell_type": "code",
   "execution_count": null,
   "id": "4e995db5",
   "metadata": {},
   "outputs": [],
   "source": [
    "translator.translate(\"Olá, como você está?\")  # \"Hello, how are you?\""
   ]
  },
  {
   "cell_type": "markdown",
   "id": "be0ffcd0",
   "metadata": {},
   "source": []
  },
  {
   "cell_type": "code",
   "execution_count": null,
   "id": "f6b04e6d",
   "metadata": {},
   "outputs": [],
   "source": [
    "from transformers import pipeline\n",
    "unmasker = pipeline('fill-mask', model='bert-base-multilingual-uncased')\n"
   ]
  },
  {
   "cell_type": "code",
   "execution_count": null,
   "id": "27e34520",
   "metadata": {},
   "outputs": [],
   "source": [
    "print(unmasker(\"I walk this lonely [MASK], the only one that I have ever known!\")[0]['sequence'])\n",
    "print(unmasker(\"Eu caminhei sozinho pela [MASK], falei com as estrelas e com a Lua\")[0]['sequence'])"
   ]
  },
  {
   "cell_type": "code",
   "execution_count": null,
   "id": "072759db",
   "metadata": {},
   "outputs": [],
   "source": []
  },
  {
   "cell_type": "markdown",
   "id": "333e6fb5",
   "metadata": {},
   "source": [
    "# Exercise\n",
    "\n",
    "Compare three different approaches to tackle the classification problem for texts in Portuguese. For each problem, make a learning curve, that is, make random samples of the training dataset with different sizes.\n",
    "\n",
    "1. Perform classification directly in Portuguese, using a Bag-of-Words approach\n",
    "1. Classify texts directly in Portuguese using multilingual BERT\n",
    "1. Translate texts to English and then use the usual BERT\n"
   ]
  },
  {
   "cell_type": "markdown",
   "id": "bd211f5f",
   "metadata": {},
   "source": []
  }
 ],
 "metadata": {
  "kernelspec": {
   "display_name": "nlp_course",
   "language": "python",
   "name": "python3"
  },
  "language_info": {
   "codemirror_mode": {
    "name": "ipython",
    "version": 3
   },
   "file_extension": ".py",
   "mimetype": "text/x-python",
   "name": "python",
   "nbconvert_exporter": "python",
   "pygments_lexer": "ipython3",
   "version": "3.12.8"
  }
 },
 "nbformat": 4,
 "nbformat_minor": 5
}
