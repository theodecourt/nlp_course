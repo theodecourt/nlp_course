{
 "cells": [
  {
   "cell_type": "markdown",
   "id": "d98e1a57",
   "metadata": {},
   "source": [
    "# ACTIVITY: A CLASSIFIER\n",
    "\n",
    "The goal of this activity is to practice building and discussing a classifier. By the end of the activity, you should be able to justify your design decisions according to \n",
    "\n",
    "TASK:"
   ]
  },
  {
   "cell_type": "markdown",
   "id": "af144335",
   "metadata": {},
   "source": []
  },
  {
   "cell_type": "code",
   "execution_count": null,
   "id": "2b490f94",
   "metadata": {},
   "outputs": [],
   "source": [
    "import kagglehub\n",
    "import os\n",
    "import pandas as pd\n",
    "from pathlib import Path\n",
    "\n",
    "path = kagglehub.dataset_download(\"hgultekin/bbcnewsarchive\")\n",
    "print(os.listdir(path))\n",
    "df = pd.read_csv(Path(path) / \"bbc-news-data.csv\", sep='\\t')"
   ]
  },
  {
   "cell_type": "code",
   "execution_count": null,
   "id": "d06ea01d",
   "metadata": {},
   "outputs": [],
   "source": [
    "df.head()"
   ]
  },
  {
   "cell_type": "markdown",
   "id": "a423b8dd",
   "metadata": {},
   "source": [
    "## Baseline classifier\n",
    "\n",
    "We will start with a baseline classifier. It is a simple Bag-of-words classifier."
   ]
  },
  {
   "cell_type": "code",
   "execution_count": null,
   "id": "7b480959",
   "metadata": {},
   "outputs": [],
   "source": [
    "from sklearn.model_selection import train_test_split\n",
    "from sklearn.feature_extraction.text import TfidfVectorizer\n",
    "from sklearn.linear_model import LogisticRegression\n",
    "from sklearn.pipeline import Pipeline\n",
    "from sklearn.metrics import classification_report\n",
    "\n",
    "X_train, X_test, y_train, y_test = train_test_split(df['content'], df['category'], test_size=0.2, random_state=42)\n",
    "\n",
    "pipeline = Pipeline([\n",
    "    ('tfidf', TfidfVectorizer()),\n",
    "    ('clf', LogisticRegression(max_iter=1000))\n",
    "])\n",
    "\n",
    "pipeline.fit(X_train, y_train)\n",
    "y_pred = pipeline.predict(X_test)\n",
    "print(classification_report(y_test, y_pred))"
   ]
  },
  {
   "cell_type": "markdown",
   "id": "211af15f",
   "metadata": {},
   "source": [
    "## PART 1: preparation\n",
    "\n",
    "Answer the questions below as comments in the following cell. In your answers, avoid using common sense. Use adequate jargons."
   ]
  },
  {
   "cell_type": "code",
   "execution_count": null,
   "id": "d440a61a",
   "metadata": {},
   "outputs": [],
   "source": [
    "#ex1\n",
    "\n",
    "# Question 1: What is the underlying premise of the Bag-of-Words classifier, that is, why does BoW allow to classify these texts?\n",
    "# Question 2: What is the underlying premise of a BERT-based classifier, that is, why should BERT embeddings be interesting to classify these texts?\n"
   ]
  },
  {
   "cell_type": "markdown",
   "id": "c4752c77",
   "metadata": {},
   "source": [
    "## PART 2: action\n",
    "\n",
    "(a) Make a classifier that uses BERT embeddings to categorize the texts in the dataset we have discussed.\n",
    "\n",
    "(b) Make a bar plot comparing the accuracy of the BERT-based classifier to that of the Bag-of-Words classifier\n",
    "\n",
    "(c) Use a PCA or a T-SNE plot to visualize the documents in the newsgroups dataset in the embedding space provided by BERT. Analyze the plot taking into account the confusion matrix or the classification report of your BERT-based classifier.\n",
    "\n",
    "\n"
   ]
  },
  {
   "cell_type": "code",
   "execution_count": null,
   "id": "4c1e5e49",
   "metadata": {},
   "outputs": [],
   "source": [
    "#ex2"
   ]
  },
  {
   "cell_type": "code",
   "execution_count": null,
   "id": "b5745bc5",
   "metadata": {},
   "outputs": [],
   "source": []
  },
  {
   "cell_type": "code",
   "execution_count": null,
   "id": "2595b2e3",
   "metadata": {},
   "outputs": [],
   "source": []
  }
 ],
 "metadata": {
  "kernelspec": {
   "display_name": "nlp_course",
   "language": "python",
   "name": "python3"
  },
  "language_info": {
   "codemirror_mode": {
    "name": "ipython",
    "version": 3
   },
   "file_extension": ".py",
   "mimetype": "text/x-python",
   "name": "python",
   "nbconvert_exporter": "python",
   "pygments_lexer": "ipython3",
   "version": "3.12.8"
  }
 },
 "nbformat": 4,
 "nbformat_minor": 5
}
