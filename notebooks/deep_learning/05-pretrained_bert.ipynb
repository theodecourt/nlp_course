{
 "cells": [
  {
   "cell_type": "markdown",
   "id": "9c4e4871",
   "metadata": {},
   "source": [
    "# BERT\n",
    "\n",
    "**GOAL: At the end of this class, we will be able to USE a pre-trained BERT to (a) generate suggestions and to (b) generate embeddings for classification**\n",
    "\n"
   ]
  },
  {
   "cell_type": "markdown",
   "id": "3e01af4e",
   "metadata": {},
   "source": [
    "## What is BERT?\n",
    "\n",
    "After the [transformer](https://arxiv.org/abs/1706.03762), we had many other advances. One of such, of course, is the [GPT](https://paperswithcode.com/paper/improving-language-understanding-by), which uses a decoder-only transformer architecture to predict the next word in a sentence. GPT uses a decoder-only architecture because it needs the masked multi-head attention device to avoid making trivial predictions. Ultimately, GPT generates an embedding space that increases the likelihood of choosing meaningful words for a text continuation.\n",
    "\n",
    "The Google team found another interesting way to obtain this type of representation. They trained an *encoder*-only transformer that can predict words removed from the text - similarly to how we know what is missing in  \"Luke, I am your ____\". The idea here is that we can use information from the future for this task, because it is highly dependent on context. Simultaneously, they trained the model to classify whether two given phrases follow each other in a corpus. So, BERT was born."
   ]
  },
  {
   "cell_type": "markdown",
   "id": "4c00a497",
   "metadata": {},
   "source": [
    "\n",
    "```mermaid\n",
    "graph LR;\n",
    "    subgraph Input;\n",
    "    T[\"Token embeddings\"];\n",
    "    P[\"Position embeddings\"];\n",
    "    S[\"Segment embeddings \n",
    "    (indicates if it is sentence 1\n",
    "     or sentence 2 in NSP task)\"];\n",
    "    ADD([\"\\+\"]);\n",
    "    T --> ADD;\n",
    "    P --> ADD;\n",
    "    S --> ADD; \n",
    "    end;\n",
    "\n",
    "    SEQ[\"Sequence Model\"];\n",
    "    ADD --> SEQ;\n",
    "    RES[\"Result: 1 vector per input token\"];\n",
    "    SEQ --> RES;\n",
    "```\n"
   ]
  },
  {
   "cell_type": "markdown",
   "id": "366ef601",
   "metadata": {},
   "source": [
    "\n",
    "\n",
    "Bert stands for [Bidirectional Encoder Representations from Transformers, and was introduced in this paper from 2019](https://arxiv.org/pdf/1810.04805). The greatest contribution of BERT, besides its architecture, is the idea of training the language model for different tasks at the same time.\n",
    "\n",
    "We are definitely not going to train BERT in class, but we are using it for other tasks. We will use the [BERT implementation from Hugging Face](https://huggingface.co/google-bert/bert-base-uncased). All help files are here.\n",
    "\n",
    "## Task 1: Masked Language Model\n",
    "\n",
    "The first task BERT was trained for was the Masked Language Model. This was inspired in a task called [\"Cloze\"](https://en.wikipedia.org/wiki/Cloze_test), and the idea is to remove a word from a sentence and let the system predict what word should fill that sentence:\n",
    "\n"
   ]
  },
  {
   "cell_type": "markdown",
   "id": "211077b9",
   "metadata": {},
   "source": [
    "\n",
    "\n",
    "```mermaid\n",
    "graph LR;\n",
    "    subgraph Inputs;\n",
    "    INPUT[\"[CLS]\n",
    "        remove\n",
    "        some\n",
    "        parts\n",
    "        [MASK]\n",
    "        a\n",
    "        sentence\"];\n",
    "    end;\n",
    "    INPUT --> BERT[\"BERT\"];\n",
    "    subgraph Outputs;\n",
    "    OUTPUT[\"C\n",
    "    T1\n",
    "    T2\n",
    "    T3\n",
    "    T4\n",
    "    T5\n",
    "    T6\"];\n",
    "    end;\n",
    "    BERT --> OUTPUT;\n",
    "    Train[\"Loss: T4 should be the word 'of'\"]\n",
    "    OUTPUT --- Train;\n",
    "```\n",
    "\n",
    "\n",
    "This task suggests that the embedding space created by BERT should allow representing words in the context of the rest of the sentence!\n",
    "\n",
    "To play with this task with Hugging Face's library, you can use:\n",
    "\n"
   ]
  },
  {
   "cell_type": "code",
   "execution_count": 5,
   "id": "48f66818",
   "metadata": {},
   "outputs": [
    {
     "name": "stderr",
     "output_type": "stream",
     "text": [
      "Some weights of the model checkpoint at bert-base-uncased were not used when initializing BertForMaskedLM: ['bert.pooler.dense.bias', 'bert.pooler.dense.weight', 'cls.seq_relationship.bias', 'cls.seq_relationship.weight']\n",
      "- This IS expected if you are initializing BertForMaskedLM from the checkpoint of a model trained on another task or with another architecture (e.g. initializing a BertForSequenceClassification model from a BertForPreTraining model).\n",
      "- This IS NOT expected if you are initializing BertForMaskedLM from the checkpoint of a model that you expect to be exactly identical (initializing a BertForSequenceClassification model from a BertForSequenceClassification model).\n",
      "Device set to use cuda:0\n"
     ]
    },
    {
     "data": {
      "text/plain": [
       "[{'score': 0.9431136250495911,\n",
       "  'token': 1997,\n",
       "  'token_str': 'of',\n",
       "  'sequence': 'remove some parts of a sentence.'},\n",
       " {'score': 0.04985498636960983,\n",
       "  'token': 2013,\n",
       "  'token_str': 'from',\n",
       "  'sequence': 'remove some parts from a sentence.'},\n",
       " {'score': 0.004208952654153109,\n",
       "  'token': 1999,\n",
       "  'token_str': 'in',\n",
       "  'sequence': 'remove some parts in a sentence.'},\n",
       " {'score': 0.000622662715613842,\n",
       "  'token': 2306,\n",
       "  'token_str': 'within',\n",
       "  'sequence': 'remove some parts within a sentence.'},\n",
       " {'score': 0.0005233758711256087,\n",
       "  'token': 2076,\n",
       "  'token_str': 'during',\n",
       "  'sequence': 'remove some parts during a sentence.'}]"
      ]
     },
     "execution_count": 5,
     "metadata": {},
     "output_type": "execute_result"
    }
   ],
   "source": [
    "from transformers import pipeline\n",
    "unmasker = pipeline('fill-mask', model='bert-base-uncased')\n",
    "unmasker(\"Remove some parts [MASK] a sentence.\")"
   ]
  },
  {
   "cell_type": "markdown",
   "id": "18bf1f3f",
   "metadata": {},
   "source": [
    "### Algorithmic bias and Hallucinations\n",
    "\n",
    "Note that BERT is generating words that make sense. However, these continuations do not necessarily correspond to reality. In fact, these continuations are simply something that maximizes a probability related to a specific dataset!\n",
    "\n",
    "Check, for example, the output for:\n"
   ]
  },
  {
   "cell_type": "code",
   "execution_count": 6,
   "id": "7dbe9a1e",
   "metadata": {},
   "outputs": [
    {
     "data": {
      "text/plain": [
       "[{'score': 0.07573200762271881,\n",
       "  'token': 4511,\n",
       "  'token_str': 'wine',\n",
       "  'sequence': 'kentucky is famous for its wine.'},\n",
       " {'score': 0.06742826849222183,\n",
       "  'token': 14746,\n",
       "  'token_str': 'wines',\n",
       "  'sequence': 'kentucky is famous for its wines.'},\n",
       " {'score': 0.02818026952445507,\n",
       "  'token': 12212,\n",
       "  'token_str': 'beaches',\n",
       "  'sequence': 'kentucky is famous for its beaches.'},\n",
       " {'score': 0.022783828899264336,\n",
       "  'token': 12846,\n",
       "  'token_str': 'cuisine',\n",
       "  'sequence': 'kentucky is famous for its cuisine.'},\n",
       " {'score': 0.021198133006691933,\n",
       "  'token': 5194,\n",
       "  'token_str': 'horses',\n",
       "  'sequence': 'kentucky is famous for its horses.'}]"
      ]
     },
     "execution_count": 6,
     "metadata": {},
     "output_type": "execute_result"
    }
   ],
   "source": [
    "\n",
    "unmasker(\"Kentucky is famous for its [MASK].\")\n"
   ]
  },
  {
   "cell_type": "markdown",
   "id": "b55f1899",
   "metadata": {},
   "source": [
    "\n",
    "Kentucky is a state in the USA that may or may not have wineries, but definitely does not have famous beaches! Now, check the output when you change Kentucky for the Brazilian state of Minas Gerais!\n",
    "\n",
    "See - there is no \"brain\" inside BERT. There is merely a system that finds plausible completions for a task. This is something we have been calling \"hallucinations\" in LLMs. In the end, the model is just as biased as the dataset used for training it.\n",
    "\n",
    "### Algorithmic prejudice\n",
    "\n",
    "Despite the funny things things that the model could output, there are some assertions that can be dangerous, or outright sexist. Try to see the output of:\n"
   ]
  },
  {
   "cell_type": "code",
   "execution_count": 9,
   "id": "77017a69",
   "metadata": {},
   "outputs": [
    {
     "data": {
      "text/plain": [
       "[{'score': 0.06930015236139297,\n",
       "  'token': 3460,\n",
       "  'token_str': 'doctor',\n",
       "  'sequence': 'a successful man works as a doctor.'},\n",
       " {'score': 0.06541887670755386,\n",
       "  'token': 5160,\n",
       "  'token_str': 'lawyer',\n",
       "  'sequence': 'a successful man works as a lawyer.'},\n",
       " {'score': 0.04109674692153931,\n",
       "  'token': 7500,\n",
       "  'token_str': 'farmer',\n",
       "  'sequence': 'a successful man works as a farmer.'},\n",
       " {'score': 0.03909466415643692,\n",
       "  'token': 10533,\n",
       "  'token_str': 'carpenter',\n",
       "  'sequence': 'a successful man works as a carpenter.'},\n",
       " {'score': 0.03854001685976982,\n",
       "  'token': 22701,\n",
       "  'token_str': 'tailor',\n",
       "  'sequence': 'a successful man works as a tailor.'}]"
      ]
     },
     "execution_count": 9,
     "metadata": {},
     "output_type": "execute_result"
    }
   ],
   "source": [
    "\n",
    "unmasker(\"A successful man works as a [MASK].\")\n"
   ]
  },
  {
   "cell_type": "markdown",
   "id": "af373066",
   "metadata": {},
   "source": [
    "\n",
    "Now, change \"man\" for \"woman\". The result is not as pretty. But, see, this is not a problem of the language model structure per se - rather, it is a problem of the data used to train it.\n",
    "\n",
    "We could go on finding examples of other types of prejudice - there are all sorts of sexism and racism lying in the hidden spaces of BERT.\n",
    "\n",
    "This is bad, but remember this was 2019, and people were impressed that the system could generate coherent words at all! Nowadays, LLM outputs go through a filter that finds phrases that are potentially harmful, so they don't write ugly phrases.\n",
    "\n",
    "Which of the phrases below are true about this?"
   ]
  },
  {
   "cell_type": "markdown",
   "id": "eaa293a1",
   "metadata": {},
   "source": [
    "## Task 2: Next Sentence Prediction\n",
    "\n",
    "BERT was also trained for a task called Next Sentence Prediction. The idea of this task is to insert two sentences in the input of BERT, separating them with a special [SEP] token. Then, the system uses the output of the [CLS] token to classify whether these two sentences do or do not follow each other. It is something like:\n",
    "\n",
    "```mermaid\n",
    "graph LR;\n",
    "    subgraph Inputs;\n",
    "    INPUT[\"[CLS]\n",
    "        Here\n",
    "        I\n",
    "        am\n",
    "        [MASK]\n",
    "        rock\n",
    "        you\n",
    "        like\n",
    "        a\n",
    "        hurricane\"];\n",
    "    end;\n",
    "    INPUT --> BERT[\"BERT\"];\n",
    "    subgraph Outputs;\n",
    "    OUTPUT[\"C\n",
    "    T1\n",
    "    T2\n",
    "    etc\"];\n",
    "    end;\n",
    "    BERT --> OUTPUT;\n",
    "    Train[\"Loss: C should be equal to 1\"]\n",
    "    OUTPUT --- Train;\n",
    "```\n",
    "\n",
    "```mermaid\n",
    "graph LR;\n",
    "    subgraph Inputs;\n",
    "    INPUT[\"[CLS]\n",
    "        Here\n",
    "        I\n",
    "        am\n",
    "        [MASK]\n",
    "        rock\n",
    "        your\n",
    "        body\"];\n",
    "    end;\n",
    "    INPUT --> BERT[\"BERT\"];\n",
    "    subgraph Outputs;\n",
    "    OUTPUT[\"C\n",
    "    T1\n",
    "    T2\n",
    "    etc\"];\n",
    "    end;\n",
    "    BERT --> OUTPUT;\n",
    "    Train[\"Loss: C should be equal to 0\"]\n",
    "    OUTPUT --- Train;\n",
    "```\n",
    "\n",
    "The consequence of this training is that the embedding $C$ of the [CLS] token represents the content of the rest of the tokens. Hence, we can use it for classification. For such, we can go straight to the HuggingFace library and use:\n",
    "\n"
   ]
  },
  {
   "cell_type": "code",
   "execution_count": 10,
   "id": "a1fb9a4a",
   "metadata": {},
   "outputs": [],
   "source": [
    "from transformers import BertTokenizer, BertModel\n",
    "tokenizer = BertTokenizer.from_pretrained('bert-base-uncased')\n",
    "model = BertModel.from_pretrained(\"bert-base-uncased\")\n",
    "text = \"Replace me by any text you'd like.\"\n",
    "encoded_input = tokenizer(text, return_tensors='pt')\n",
    "output = model(**encoded_input)"
   ]
  },
  {
   "cell_type": "markdown",
   "id": "1d1dac23",
   "metadata": {},
   "source": [
    "\n",
    "The embedding for the [CLS] token can be accessed using:\n"
   ]
  },
  {
   "cell_type": "code",
   "execution_count": 11,
   "id": "750e786e",
   "metadata": {},
   "outputs": [],
   "source": [
    "output_cls = output.last_hidden_state[0,0,:]"
   ]
  },
  {
   "cell_type": "markdown",
   "id": "f94a9cb9",
   "metadata": {},
   "source": [
    "    \n",
    "There are many details in this implementation, so I made a [video exploring them all](https://youtu.be/FXtGq_TYLzM)."
   ]
  },
  {
   "cell_type": "markdown",
   "id": "ebfd4017",
   "metadata": {},
   "source": [
    "## Exercise\n",
    "\n",
    "Our usual way to approach classification is to do something in the lines of:"
   ]
  },
  {
   "cell_type": "code",
   "execution_count": 15,
   "id": "ee984b85",
   "metadata": {},
   "outputs": [
    {
     "name": "stdout",
     "output_type": "stream",
     "text": [
      "              precision    recall  f1-score   support\n",
      "\n",
      "      comedy       0.65      0.20      0.30        87\n",
      "       drama       0.60      0.92      0.72       113\n",
      "\n",
      "    accuracy                           0.60       200\n",
      "   macro avg       0.63      0.56      0.51       200\n",
      "weighted avg       0.62      0.60      0.54       200\n",
      "\n"
     ]
    }
   ],
   "source": [
    "import pandas as pd\n",
    "from sklearn.linear_model import LogisticRegression\n",
    "from sklearn.pipeline import Pipeline\n",
    "from sklearn.model_selection import train_test_split\n",
    "from sklearn.metrics import classification_report\n",
    "from sklearn.feature_extraction.text import TfidfVectorizer\n",
    "\n",
    "# Load the dataset\n",
    "df = pd.read_csv('https://raw.githubusercontent.com/tiagoft/NLP/main/wiki_movie_plots_drama_comedy.csv').sample(1000)\n",
    "X = df['Plot']\n",
    "y = df['Genre']\n",
    "\n",
    "# Split the dataset into training and testing sets\n",
    "X_train, X_test, y_train, y_test = train_test_split(X, y, test_size=0.2, random_state=42)\n",
    "\n",
    "# Create a pipeline with TfidfVectorizer and LogisticRegression\n",
    "pipeline = Pipeline([\n",
    "    ('tfidf', TfidfVectorizer()),\n",
    "    ('logreg', LogisticRegression(max_iter=1000))\n",
    "])\n",
    "\n",
    "# Train the pipeline\n",
    "pipeline.fit(X_train, y_train)\n",
    "\n",
    "# Test the pipeline\n",
    "y_pred = pipeline.predict(X_test)\n",
    "\n",
    "# Print the classification report\n",
    "print(classification_report(y_test, y_pred))"
   ]
  },
  {
   "cell_type": "markdown",
   "id": "9a5876be",
   "metadata": {},
   "source": [
    "Now, instead of using a TfIdf vectorizer, calculate embeddings for the texts in the dataset using BERT. Then, use *them* to classify. Compare the results with the ones we have when we use the Bag-of-words approach.\n",
    "\n",
    "Justify these results using the concept of embeddings we have studied in the previous lessons."
   ]
  },
  {
   "cell_type": "code",
   "execution_count": 1,
   "id": "0f634d05",
   "metadata": {},
   "outputs": [],
   "source": [
    "# Make your solution here\n",
    "\n"
   ]
  },
  {
   "cell_type": "code",
   "execution_count": 11,
   "id": "2bb02d6a",
   "metadata": {},
   "outputs": [
    {
     "name": "stderr",
     "output_type": "stream",
     "text": [
      "100%|██████████| 1000/1000 [04:35<00:00,  3.63it/s]\n"
     ]
    }
   ],
   "source": [
    "# This is my solution - do not copy it!\n",
    "\n",
    "# Step 0: get data\n",
    "import pandas as pd\n",
    "df = pd.read_csv('https://raw.githubusercontent.com/tiagoft/NLP/main/wiki_movie_plots_drama_comedy.csv').sample(1000)\n",
    "X = df['Plot']\n",
    "y = df['Genre']\n",
    "\n",
    "# Step 1: preprocess the text\n",
    "from transformers import BertTokenizer, BertModel\n",
    "from tqdm import tqdm\n",
    "import numpy as np\n",
    "tokenizer = BertTokenizer.from_pretrained('bert-base-uncased')\n",
    "model = BertModel.from_pretrained(\"bert-base-uncased\")\n",
    "def get_embeddings(text, model, tokenizer):\n",
    "    # Tokenize the input text\n",
    "    inputs = tokenizer(text, return_tensors='pt', padding=True, truncation=True, max_length=512)\n",
    "    outputs = model(**inputs)\n",
    "    cls_embedding = outputs.last_hidden_state[0, 0, :]\n",
    "    return cls_embedding\n",
    "\n",
    "embeddings = []\n",
    "for i in tqdm(range(len(X))):\n",
    "    e = get_embeddings(X.iloc[i], model, tokenizer)\n",
    "    embeddings.append(e.detach().numpy())\n",
    "embeddings = np.array(embeddings)\n",
    "np.save('bert_embeddings.npy', embeddings)\n"
   ]
  },
  {
   "cell_type": "code",
   "execution_count": 12,
   "id": "5b709b6c",
   "metadata": {},
   "outputs": [
    {
     "name": "stdout",
     "output_type": "stream",
     "text": [
      "              precision    recall  f1-score   support\n",
      "\n",
      "      comedy       0.74      0.75      0.74        79\n",
      "       drama       0.83      0.83      0.83       121\n",
      "\n",
      "    accuracy                           0.80       200\n",
      "   macro avg       0.79      0.79      0.79       200\n",
      "weighted avg       0.80      0.80      0.80       200\n",
      "\n"
     ]
    }
   ],
   "source": [
    "embeddings = np.load('bert_embeddings.npy')\n",
    "from sklearn.model_selection import train_test_split\n",
    "X_train, X_test, y_train, y_test = train_test_split(embeddings, y, test_size=0.2, random_state=42)\n",
    "from sklearn.linear_model import LogisticRegression\n",
    "from sklearn.metrics import classification_report\n",
    "clf = LogisticRegression(max_iter=1000)\n",
    "clf.fit(X_train, y_train)\n",
    "y_pred = clf.predict(X_test)\n",
    "print(classification_report(y_test, y_pred))\n"
   ]
  },
  {
   "cell_type": "code",
   "execution_count": null,
   "id": "5afa1ade",
   "metadata": {},
   "outputs": [],
   "source": []
  },
  {
   "cell_type": "code",
   "execution_count": null,
   "id": "7bdd94d0",
   "metadata": {},
   "outputs": [],
   "source": []
  }
 ],
 "metadata": {
  "kernelspec": {
   "display_name": "nlp_course",
   "language": "python",
   "name": "python3"
  },
  "language_info": {
   "codemirror_mode": {
    "name": "ipython",
    "version": 3
   },
   "file_extension": ".py",
   "mimetype": "text/x-python",
   "name": "python",
   "nbconvert_exporter": "python",
   "pygments_lexer": "ipython3",
   "version": "3.12.8"
  }
 },
 "nbformat": 4,
 "nbformat_minor": 5
}
